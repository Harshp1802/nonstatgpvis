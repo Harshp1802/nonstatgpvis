{
 "cells": [
  {
   "cell_type": "markdown",
   "id": "fd97737a",
   "metadata": {},
   "source": [
    "<h1><center>Intuitive Explanation of Non-stationary Gaussian Process Kernels</center></h1>"
   ]
  },
  {
   "cell_type": "markdown",
   "id": "5eb415c3",
   "metadata": {},
   "source": [
    "## Background"
   ]
  },
  {
   "cell_type": "markdown",
   "id": "ca78bbf7",
   "metadata": {},
   "source": [
    "### What are GPs"
   ]
  },
  {
   "cell_type": "markdown",
   "id": "e359a38f",
   "metadata": {},
   "source": [
    "Gaussian Processes (GP) are powerful supervised learning methods, designed to solve classification and regression problems. One of the major advantages of using Gaussian processes is that it can estimate the uncertainty of its predictions by describing the probability distributions of the potentially infinite functions that fit the data. It can be defined as a stochastic process of random variables following a Gaussian distribution with a mean and a covariance function."
   ]
  },
  {
   "cell_type": "markdown",
   "id": "577d0096",
   "metadata": {},
   "source": [
    "Görtler, et al., provides <a style=\"text-decoration:none\" href=\"https://distill.pub/2019/visual-exploration-gaussian-processes/\">an excellent visual exploration of Gaussian Processes</a> with mathematical intuition as well as a deeper understanding of how they work. In this article, we will cover some basic minimal concepts that help us set up a foundation for understanding Gaussian processes and extend it to assess its performance over regression problems."
   ]
  },
  {
   "cell_type": "markdown",
   "id": "3b5d72d7",
   "metadata": {},
   "source": [
    "### Kernels"
   ]
  },
  {
   "cell_type": "markdown",
   "id": "550eeee1",
   "metadata": {},
   "source": [
    "A kernel (also called the covariance function) describes covariance, i.e, the joint variability of the Gaussian process random variables and is essential in setting up prior information on the GP distribution. These covariance functions make the core of the GP models. Radial basis function (RBF) kernel (also known as Gaussian kernel) is a popularly used covariance function in GP modelling.\n",
    "\n",
    "\\begin{align}\n",
    "K_{rbf}(\\mathbf{x}_i, \\mathbf{x}_j) &= \\sigma^2 \\exp\\left(\\frac{||\\mathbf{x}_i - \\mathbf{x}_j||_2^2}{2l^2}\\right)\\\\\n",
    "\\end{align}"
   ]
  },
  {
   "cell_type": "markdown",
   "id": "362b65dd",
   "metadata": {},
   "source": [
    "There are a variety of kernels that can be used to model different desired shapes of the fitting functions. We also discuss two broad categories of kernels, stationary and non-stationary in Section ??, and also compare their performances on standard datasets.  Following parameters in the kernel function play a significant role in the modelling of a GP:\n",
    "\n",
    "* Lengthscale ($l$)\n",
    "* Variance ($\\sigma^2$)"
   ]
  }
 ],
 "metadata": {
  "kernelspec": {
   "display_name": "Python 3",
   "language": "python",
   "name": "python3"
  },
  "language_info": {
   "codemirror_mode": {
    "name": "ipython",
    "version": 3
   },
   "file_extension": ".py",
   "mimetype": "text/x-python",
   "name": "python",
   "nbconvert_exporter": "python",
   "pygments_lexer": "ipython3",
   "version": "3.8.8"
  }
 },
 "nbformat": 4,
 "nbformat_minor": 5
}
